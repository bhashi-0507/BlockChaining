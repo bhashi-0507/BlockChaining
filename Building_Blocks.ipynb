{
  "nbformat": 4,
  "nbformat_minor": 0,
  "metadata": {
    "colab": {
      "provenance": [],
      "authorship_tag": "ABX9TyM7NfDz0SiEFqMJIfIU0eTD",
      "include_colab_link": true
    },
    "kernelspec": {
      "name": "python3",
      "display_name": "Python 3"
    },
    "language_info": {
      "name": "python"
    }
  },
  "cells": [
    {
      "cell_type": "markdown",
      "metadata": {
        "id": "view-in-github",
        "colab_type": "text"
      },
      "source": [
        "<a href=\"https://colab.research.google.com/github/bhashi-0507/BlockChaining/blob/main/Building_Blocks.ipynb\" target=\"_parent\"><img src=\"https://colab.research.google.com/assets/colab-badge.svg\" alt=\"Open In Colab\"/></a>"
      ]
    },
    {
      "cell_type": "code",
      "source": [
        "import hashlib\n",
        "import datetime as date\n",
        "class Block:\n",
        "    def __init__(self, index, timestamp, data, previous_hash):\n",
        "        self.index = index\n",
        "        self.timestamp = timestamp\n",
        "        self.data = data\n",
        "        self.previous_hash = previous_hash\n",
        "        self.hash = self.calculate_hash()\n",
        "\n",
        "    def calculate_hash(self):\n",
        "        hash_string = str(self.index) + str(self.timestamp) + str(self.data) + str(self.previous_hash)\n",
        "        return hashlib.sha256(hash_string.encode()).hexdigest()\n",
        "class Blockchain:\n",
        "    def __init__(self):\n",
        "        self.chain = [self.create_genesis_block()]\n",
        "\n",
        "    def create_genesis_block(self):\n",
        "        return Block(0, date.datetime.now(), \"Genesis Block\", \"0\")\n",
        "\n",
        "    def get_latest_block(self):\n",
        "        return self.chain[-1]\n",
        "\n",
        "    def add_block(self, new_block):\n",
        "        new_block.previous_hash = self.get_latest_block().hash\n",
        "        new_block.hash = new_block.calculate_hash()\n",
        "        self.chain.append(new_block)\n",
        "\n",
        "    def is_valid(self):\n",
        "        for i in range(1, len(self.chain)):\n",
        "            current_block = self.chain[i]\n",
        "            previous_block = self.chain[i-1]\n",
        "\n",
        "            if current_block.hash != current_block.calculate_hash():\n",
        "                return False\n",
        "\n",
        "            if current_block.previous_hash != previous_block.hash:\n",
        "                return False\n",
        "\n",
        "        return True\n",
        "# Create the blockchain\n",
        "blockchain = Blockchain()\n",
        "\n",
        "# Add blocks to the blockchain\n",
        "blockchain.add_block(Block(1, date.datetime.now(), \"Transaction Data 1\", \"\"))\n",
        "blockchain.add_block(Block(2, date.datetime.now(), \"Transaction Data 2\", \"\"))\n",
        "blockchain.add_block(Block(3, date.datetime.now(), \"Transaction Data 3\", \"\"))\n",
        "\n",
        "# Print the contents of the blockchain\n",
        "for block in blockchain.chain:\n",
        "    print(\"Block #\" + str(block.index))\n",
        "    print(\"Timestamp: \" + str(block.timestamp))\n",
        "    print(\"Data: \" + block.data)\n",
        "    print(\"Hash: \" + block.hash)\n",
        "    print(\"Previous Hash: \" + block.previous_hash)\n",
        "    print(\"\\n\")"
      ],
      "metadata": {
        "colab": {
          "base_uri": "https://localhost:8080/"
        },
        "id": "muklqdZV-uTQ",
        "outputId": "150de00e-abac-4a96-b677-d0671aa0da33"
      },
      "execution_count": 6,
      "outputs": [
        {
          "output_type": "stream",
          "name": "stdout",
          "text": [
            "Block #0\n",
            "Timestamp: 2024-09-11 17:00:31.189459\n",
            "Data: Genesis Block\n",
            "Hash: 62869b7c79272f10d662e66b0a36ef52309e8f1e87d5cf69b9ea6a877288571b\n",
            "Previous Hash: 0\n",
            "\n",
            "\n",
            "Block #1\n",
            "Timestamp: 2024-09-11 17:00:31.189757\n",
            "Data: Transaction Data 1\n",
            "Hash: ae536512b17c189f08ec40d4bcbb8c5314d89f0b327986ed33b54a5f00ba697e\n",
            "Previous Hash: 62869b7c79272f10d662e66b0a36ef52309e8f1e87d5cf69b9ea6a877288571b\n",
            "\n",
            "\n",
            "Block #2\n",
            "Timestamp: 2024-09-11 17:00:31.189858\n",
            "Data: Transaction Data 2\n",
            "Hash: 088ff1f8fe1c419895e6d04d834b6ab14c8c3898407c75a85c71f761f41d4d5d\n",
            "Previous Hash: ae536512b17c189f08ec40d4bcbb8c5314d89f0b327986ed33b54a5f00ba697e\n",
            "\n",
            "\n",
            "Block #3\n",
            "Timestamp: 2024-09-11 17:00:31.189938\n",
            "Data: Transaction Data 3\n",
            "Hash: fc96232c63e86d904e83a2e7a0be6c21ee2531bf27e0be969f24217857de444f\n",
            "Previous Hash: 088ff1f8fe1c419895e6d04d834b6ab14c8c3898407c75a85c71f761f41d4d5d\n",
            "\n",
            "\n"
          ]
        }
      ]
    }
  ]
}